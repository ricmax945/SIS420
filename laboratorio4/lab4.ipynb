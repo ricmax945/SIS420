{
 "cells": [
  {
   "cell_type": "code",
   "execution_count": 603,
   "metadata": {
    "executionInfo": {
     "elapsed": 5,
     "status": "ok",
     "timestamp": 1756224621261,
     "user": {
      "displayName": "Carlos Walter Pacheco Lora",
      "userId": "05889892519883337793"
     },
     "user_tz": 240
    },
    "id": "20Q29kX8SxgJ"
   },
   "outputs": [],
   "source": [
    "# utilizado para la manipulación de directorios y rutas\n",
    "import os\n",
    "\n",
    "# Cálculo científico y vectorial para python\n",
    "import numpy as np\n",
    "import pandas as pd\n",
    "\n",
    "# Libreria para graficos\n",
    "from matplotlib import pyplot as plt\n",
    "\n",
    "# Modulo de optimizacion en scipy\n",
    "from scipy import optimize\n",
    "\n",
    "# modulo para cargar archivos en formato MATLAB\n",
    "# from scipy.io import loadmat\n",
    "\n",
    "# le dice a matplotlib que incruste gráficos en el cuaderno\n",
    "%matplotlib inline"
   ]
  },
  {
   "cell_type": "code",
   "execution_count": null,
   "metadata": {
    "executionInfo": {
     "elapsed": 5,
     "status": "ok",
     "timestamp": 1756224621262,
     "user": {
      "displayName": "Carlos Walter Pacheco Lora",
      "userId": "05889892519883337793"
     },
     "user_tz": 240
    },
    "id": "hhRjL2ptSxgK"
   },
   "outputs": [],
   "source": [
    "\n",
    "# Este dataset proviene de una investigación sobre la predicción de incumplimiento de pagos de clientes en Taiwán.\n",
    "# A diferencia de una simple clasificación binaria (cliente confiable/no confiable), aquí se busca estimar la probabilidad real de incumplimiento,\n",
    "# lo cual es más útil para la gestión de riesgos financieros.\n",
    "# se aplicarán técnicas de regresión logística y clasificación one-vs-all para predecir si un cliente caerá en default (incumplimiento).\n",
    "# Aunque no estimaremos directamente la probabilidad real de default como en el estudio original, nuestro objetivo es construir un modelo predictivo\n",
    "# que permita clasificar a los clientes según su riesgo de incumplimiento, utilizando las variables disponibles en el dataset.\n",
    "\n",
    "# La entrada es de 23 elementos contando con x0\n",
    "input_layer_size  = 23\n",
    "\n",
    "# 10 etiquetas, de 1 a 10 (tomar en cuenta que se asigna \"0\" a la etiqueta 10)\n",
    "num_labels = 2\n",
    "\n",
    "# datos de entrenamiento almacenados en los arreglos X, y\n",
    "df = pd.read_csv('clientes_sin_id.csv', delimiter=';')\n",
    "\n",
    "X = df.iloc[:, :24].values\n",
    "y = df.iloc[:, 23].values\n",
    "\n",
    "\n",
    "m = y.size\n"
   ]
  },
  {
   "cell_type": "code",
   "execution_count": 605,
   "metadata": {
    "colab": {
     "base_uri": "https://localhost:8080/"
    },
    "executionInfo": {
     "elapsed": 4,
     "status": "ok",
     "timestamp": 1756224621262,
     "user": {
      "displayName": "Carlos Walter Pacheco Lora",
      "userId": "05889892519883337793"
     },
     "user_tz": 240
    },
    "id": "aw2yVc8ESxgL",
    "outputId": "eebeeacd-4d9b-4b0c-8838-3b3cad8b9484"
   },
   "outputs": [
    {
     "name": "stdout",
     "output_type": "stream",
     "text": [
      "[50000     2     2     1    37     0     0     0     0     0     0 46990\n",
      " 48233 49291 28314 28959 29547  2000  2019  1200  1100  1069  1000     0]\n",
      "[0 0 0 ... 1 1 1]\n"
     ]
    }
   ],
   "source": [
    "print(X[0,:])\n",
    "print(y)"
   ]
  },
  {
   "cell_type": "code",
   "execution_count": 606,
   "metadata": {
    "executionInfo": {
     "elapsed": 2,
     "status": "ok",
     "timestamp": 1756224621262,
     "user": {
      "displayName": "Carlos Walter Pacheco Lora",
      "userId": "05889892519883337793"
     },
     "user_tz": 240
    },
    "id": "HWF5C5Jt8wNb"
   },
   "outputs": [],
   "source": [
    "def  featureNormalize(X):\n",
    "    X_norm = X.copy()\n",
    "    mu = np.zeros(X.shape[1])\n",
    "    sigma = np.zeros(X.shape[1])\n",
    "\n",
    "    mu = np.mean(X, axis = 0)\n",
    "    sigma = np.std(X, axis = 0)\n",
    "    X_norm = (X - mu) / sigma\n",
    "\n",
    "    return X_norm, mu, sigma"
   ]
  },
  {
   "cell_type": "code",
   "execution_count": 607,
   "metadata": {
    "executionInfo": {
     "elapsed": 1,
     "status": "ok",
     "timestamp": 1756224621264,
     "user": {
      "displayName": "Carlos Walter Pacheco Lora",
      "userId": "05889892519883337793"
     },
     "user_tz": 240
    },
    "id": "f4W6d-ya1ABV"
   },
   "outputs": [],
   "source": [
    "# llama featureNormalize con los datos cargados\n",
    "X_norm, mu, sigma = featureNormalize(X)"
   ]
  },
  {
   "cell_type": "code",
   "execution_count": 608,
   "metadata": {
    "colab": {
     "base_uri": "https://localhost:8080/"
    },
    "executionInfo": {
     "elapsed": 25,
     "status": "ok",
     "timestamp": 1756224621289,
     "user": {
      "displayName": "Carlos Walter Pacheco Lora",
      "userId": "05889892519883337793"
     },
     "user_tz": 240
    },
    "id": "_lk8TeZPt5_S",
    "outputId": "2eecc12e-2b23-41ef-a26f-d8fec5784657"
   },
   "outputs": [
    {
     "name": "stdout",
     "output_type": "stream",
     "text": [
      "[-0.90554988  0.81022784  0.18583787 -1.05726585  0.16422035  0.01489192\n",
      "  0.11186494  0.1388451   0.18872864  0.23487902  0.25317637 -0.0575424\n",
      " -0.01335254  0.03278577 -0.23242322 -0.18677891 -0.15662825 -0.22121175\n",
      " -0.16937416 -0.22866052 -0.23786186 -0.24418454 -0.23713496 -0.53287265]\n",
      "[0 0 0 ... 1 1 1]\n"
     ]
    }
   ],
   "source": [
    "print(X_norm[0,:])\n",
    "print(y)"
   ]
  },
  {
   "cell_type": "code",
   "execution_count": 609,
   "metadata": {
    "executionInfo": {
     "elapsed": 22,
     "status": "ok",
     "timestamp": 1756224621290,
     "user": {
      "displayName": "Carlos Walter Pacheco Lora",
      "userId": "05889892519883337793"
     },
     "user_tz": 240
    },
    "id": "r9e6MRrW1G22"
   },
   "outputs": [],
   "source": [
    "# Configurar la matriz adecuadamente, y agregar una columna de unos que corresponde al termino de intercepción.\n",
    "m, n = X.shape\n",
    "# Agraga el termino de intercepción a A\n",
    "# X = np.concatenate([np.ones((m, 1)), X_norm], axis=1)\n",
    "X = X_norm\n",
    "# X = np.concatenate([np.ones((m, 1)), X], axis=1)"
   ]
  },
  {
   "cell_type": "code",
   "execution_count": 610,
   "metadata": {
    "executionInfo": {
     "elapsed": 22,
     "status": "ok",
     "timestamp": 1756224621291,
     "user": {
      "displayName": "Carlos Walter Pacheco Lora",
      "userId": "05889892519883337793"
     },
     "user_tz": 240
    },
    "id": "0sB9Kyi8SxgN"
   },
   "outputs": [],
   "source": [
    "def sigmoid(z):\n",
    "    \"\"\"\n",
    "    Calcula la sigmoide de z.\n",
    "    \"\"\"\n",
    "    return 1.0 / (1.0 + np.exp(-z))"
   ]
  },
  {
   "cell_type": "code",
   "execution_count": 611,
   "metadata": {
    "executionInfo": {
     "elapsed": 21,
     "status": "ok",
     "timestamp": 1756224621291,
     "user": {
      "displayName": "Carlos Walter Pacheco Lora",
      "userId": "05889892519883337793"
     },
     "user_tz": 240
    },
    "id": "fdCFEcXzGDsF"
   },
   "outputs": [],
   "source": [
    "def calcularCosto(theta, X, y):\n",
    "    # Inicializar algunos valores utiles\n",
    "    m = y.size  # numero de ejemplos de entrenamiento\n",
    "\n",
    "    J = 0\n",
    "    h = sigmoid(X.dot(theta.T))\n",
    "    J = (1 / m) * np.sum(-y.dot(np.log(h)) - (1 - y).dot(np.log(1 - h)))\n",
    "\n",
    "    return J"
   ]
  },
  {
   "cell_type": "code",
   "execution_count": 612,
   "metadata": {
    "executionInfo": {
     "elapsed": 22,
     "status": "ok",
     "timestamp": 1756224621292,
     "user": {
      "displayName": "Carlos Walter Pacheco Lora",
      "userId": "05889892519883337793"
     },
     "user_tz": 240
    },
    "id": "6WWZmMXnGL-w"
   },
   "outputs": [],
   "source": [
    "def descensoGradiente(theta, X, y, alpha, num_iters):\n",
    "    # Inicializa algunos valores\n",
    "    m = y.shape[0] # numero de ejemplos de entrenamiento\n",
    "\n",
    "    # realiza una copia de theta, el cual será actualizada por el descenso por el gradiente\n",
    "    theta = theta.copy()\n",
    "    J_history = []\n",
    "\n",
    "    for i in range(num_iters):\n",
    "        h = sigmoid(X.dot(theta.T))\n",
    "        theta = theta - (alpha / m) * (h - y).dot(X)\n",
    "\n",
    "        J_history.append(calcularCosto(theta, X, y))\n",
    "    return theta, J_history"
   ]
  },
  {
   "cell_type": "markdown",
   "metadata": {
    "id": "Rlk-Z2p-SxgN"
   },
   "source": [
    "<a id=\"section2\"></a>\n",
    "### 1.4 Clasificacion One-vs-all\n",
    "En esta parte del ejercicio, se implementará la clasificación de uno contra todos mediante el entrenamiento de múltiples clasificadores de regresión logística regularizados, uno para cada una de las clases $K$ en nuestro conjunto de datos. En el conjunto de datos de dígitos escritos a mano, $K = 10$, pero su código debería funcionar para cualquier valor de $K$.\n",
    "\n",
    "El argumento `y` de esta función es un vector de etiquetas de 0 a 9. Al entrenar el clasificador para la clase $k \\in \\{0, ..., K-1 \\} $, querrá un vector K-dimensional de etiquetas $y$, donde $y_j \\ in 0, 1$ indica si la instancia de entrenamiento $j ^ {th}$ pertenece a la clase $k$ $(y_j = 1)$, o si pertenece a una clase diferente $(y_j = 0)$.\n",
    "\n",
    "Además, se utiliza `optimize.minimize` de scipy para este ejercicio.\n",
    "<a id=\"oneVsAll\"></a>"
   ]
  },
  {
   "cell_type": "code",
   "execution_count": 613,
   "metadata": {
    "executionInfo": {
     "elapsed": 5,
     "status": "ok",
     "timestamp": 1756224621297,
     "user": {
      "displayName": "Carlos Walter Pacheco Lora",
      "userId": "05889892519883337793"
     },
     "user_tz": 240
    },
    "id": "4xM2MCvsGqYo"
   },
   "outputs": [],
   "source": [
    "def OneVsAll(X, y, num_labels, lambda_):\n",
    "  alpha = 0.015\n",
    "  num_iters = 3000\n",
    "\n",
    "  m, n = X.shape\n",
    "  all_theta = np.zeros((num_labels, n + 1))\n",
    "\n",
    "  # Agrega unos a la matriz X\n",
    "  X = np.concatenate([np.ones((m, 1)), X], axis=1)\n",
    "\n",
    "  for c in np.arange(num_labels):\n",
    "      initial_theta = np.zeros(n + 1)\n",
    "\n",
    "      y_actual = np.where(y == c, 1, 0)\n",
    "\n",
    "      theta, J_history = descensoGradiente(initial_theta, X, y_actual, alpha, num_iters)\n",
    "\n",
    "      all_theta[c] = theta\n",
    "      # Grafica la convergencia del costo para cada clase\n",
    "      plt.plot(np.arange(len(J_history)), J_history, lw=2)\n",
    "      plt.xlabel('Numero de iteraciones')\n",
    "      plt.ylabel('Costo J')\n",
    "      plt.title(f'Convergencia del costo para la clase {c}')\n",
    "      plt.show()\n",
    "\n",
    "\n",
    "  return all_theta"
   ]
  },
  {
   "cell_type": "code",
   "execution_count": 614,
   "metadata": {
    "colab": {
     "base_uri": "https://localhost:8080/"
    },
    "executionInfo": {
     "elapsed": 11,
     "status": "ok",
     "timestamp": 1756224621305,
     "user": {
      "displayName": "Carlos Walter Pacheco Lora",
      "userId": "05889892519883337793"
     },
     "user_tz": 240
    },
    "id": "w6JbsLLMSxgO",
    "outputId": "fd3ed914-174e-4493-9284-e6a3b0071b46"
   },
   "outputs": [
    {
     "data": {
      "image/png": "[encoded data removed]",
      "text/plain": [
       "<Figure size 640x480 with 1 Axes>"
      ]
     },
     "metadata": {},
     "output_type": "display_data"
    },
    {
     "data": {
      "image/png": "[encoded data removed]",
      "text/plain": [
       "<Figure size 640x480 with 1 Axes>"
      ]
     },
     "metadata": {},
     "output_type": "display_data"
    },
    {
     "name": "stdout",
     "output_type": "stream",
     "text": [
      "(2, 25)\n"
     ]
    }
   ],
   "source": [
    "lambda_ = 0.1\n",
    "all_theta = OneVsAll(X, y, num_labels, lambda_)\n",
    "print(all_theta.shape)"
   ]
  },
  {
   "cell_type": "code",
   "execution_count": 615,
   "metadata": {
    "colab": {
     "base_uri": "https://localhost:8080/"
    },
    "executionInfo": {
     "elapsed": 49,
     "status": "ok",
     "timestamp": 1756224621354,
     "user": {
      "displayName": "Carlos Walter Pacheco Lora",
      "userId": "05889892519883337793"
     },
     "user_tz": 240
    },
    "id": "V1EfKaiEgtcw",
    "outputId": "6dc35b97-1046-432a-f93d-9985dae01bae"
   },
   "outputs": [
    {
     "name": "stdout",
     "output_type": "stream",
     "text": [
      "[[ 2.10067101e+00  2.60219062e-02  1.63579488e-02  2.85026670e-02\n",
      "   3.02266644e-02 -2.79992526e-02 -2.14107786e-01 -6.11007083e-02\n",
      "  -3.15408972e-02 -1.52914053e-02 -1.44601059e-02 -9.87875197e-03\n",
      "   3.36639664e-02  1.76453588e-02  1.08072364e-02  4.14907066e-03\n",
      "  -1.29535662e-03 -3.85632471e-03  3.09898488e-02  2.38522181e-02\n",
      "   1.16918531e-02  1.39771487e-02  1.24239568e-02  1.01488853e-02\n",
      "  -3.03700860e+00]\n",
      " [-2.10067101e+00 -2.60219062e-02 -1.63579488e-02 -2.85026670e-02\n",
      "  -3.02266644e-02  2.79992526e-02  2.14107786e-01  6.11007083e-02\n",
      "   3.15408972e-02  1.52914053e-02  1.44601059e-02  9.87875197e-03\n",
      "  -3.36639664e-02 -1.76453588e-02 -1.08072364e-02 -4.14907066e-03\n",
      "   1.29535662e-03  3.85632471e-03 -3.09898488e-02 -2.38522181e-02\n",
      "  -1.16918531e-02 -1.39771487e-02 -1.24239568e-02 -1.01488853e-02\n",
      "   3.03700860e+00]]\n"
     ]
    }
   ],
   "source": [
    "print(all_theta)"
   ]
  },
  {
   "cell_type": "markdown",
   "metadata": {
    "id": "aQLqvbc_SxgO"
   },
   "source": [
    "<a id=\"section3\"></a>\n",
    "#### 1.4.1 Prediccion One-vs-all\n",
    "\n",
    "Después de entrenar el clasificador de one-vs-all, se puede usarlo para predecir el dígito contenido en una imagen determinada. Para cada entrada, debe calcular la \"probabilidad\" de que pertenezca a cada clase utilizando los clasificadores de regresión logística entrenados. La función de predicción one-vs-all seleccionará la clase para la cual el clasificador de regresión logística correspondiente genera la probabilidad más alta y devolverá la etiqueta de clase (0, 1, ..., K-1) como la predicción para el ejemplo de entrada."
   ]
  },
  {
   "cell_type": "code",
   "execution_count": 616,
   "metadata": {
    "executionInfo": {
     "elapsed": 64,
     "status": "ok",
     "timestamp": 1756224621419,
     "user": {
      "displayName": "Carlos Walter Pacheco Lora",
      "userId": "05889892519883337793"
     },
     "user_tz": 240
    },
    "id": "PjFoFe1bSxgO"
   },
   "outputs": [],
   "source": [
    "def predictOneVsAll(all_theta, X):\n",
    "    \"\"\"\n",
    "    Devuelve un vector de predicciones para cada ejemplo en la matriz X.\n",
    "    Tenga en cuenta que X contiene los ejemplos en filas.\n",
    "    all_theta es una matriz donde la i-ésima fila es un vector theta de regresión logística entrenada para la i-ésima clase.\n",
    "    Debe establecer p en un vector de valores de 0..K-1 (por ejemplo, p = [0, 2, 0, 1]\n",
    "    predice clases 0, 2, 0, 1 para 4 ejemplos).\n",
    "\n",
    "    Parametros\n",
    "    ----------\n",
    "    all_theta : array_like\n",
    "        The trained parameters for logistic regression for each class.\n",
    "        This is a matrix of shape (K x n+1) where K is number of classes\n",
    "        and n is number of features without the bias.\n",
    "\n",
    "    X : array_like\n",
    "        Data points to predict their labels. This is a matrix of shape\n",
    "        (m x n) where m is number of data points to predict, and n is number\n",
    "        of features without the bias term. Note we add the bias term for X in\n",
    "        this function.\n",
    "\n",
    "    Devuelve\n",
    "    -------\n",
    "    p : array_like\n",
    "        The predictions for each data point in X. This is a vector of shape (m, ).\n",
    "    \"\"\"\n",
    "\n",
    "    m = X.shape[0];\n",
    "    num_labels = all_theta.shape[0]\n",
    "\n",
    "    p = np.zeros(m)\n",
    "\n",
    "    # Add ones to the X data matrix\n",
    "    X = np.concatenate([np.ones((m, 1)), X], axis=1)\n",
    "    p = np.argmax(sigmoid(X.dot(all_theta.T)), axis = 1)\n",
    "\n",
    "    return p"
   ]
  },
  {
   "cell_type": "markdown",
   "metadata": {
    "id": "zo3aawvsSxgO"
   },
   "source": [
    "Una vez que haya terminado, se llama a la función `predictOneVsAll` usando el valor aprendido de $\\theta$. Debería apreciarse que la precisión del conjunto de entrenamiento es de aproximadamente 95,1% (es decir, clasifica correctamente el 95,1% de los ejemplos del conjunto de entrenamiento)."
   ]
  },
  {
   "cell_type": "code",
   "execution_count": 617,
   "metadata": {
    "colab": {
     "base_uri": "https://localhost:8080/"
    },
    "executionInfo": {
     "elapsed": 5,
     "status": "ok",
     "timestamp": 1756224621424,
     "user": {
      "displayName": "Carlos Walter Pacheco Lora",
      "userId": "05889892519883337793"
     },
     "user_tz": 240
    },
    "id": "mE7v5cglSxgO",
    "outputId": "5b8921b7-ee4c-4ae6-ffb4-0d6d4dbf8d19"
   },
   "outputs": [
    {
     "name": "stdout",
     "output_type": "stream",
     "text": [
      "(29997, 24)\n",
      "Precision del conjuto de entrenamiento: 100.00%\n",
      "(5998, 24)\n",
      "(5998, 25)\n",
      "[1 0 0 0 1 1 0 1 1 0 0 1 0 0 0 0 0 1 0 1 1 1 0 0 0 0 0 0 0 1 0 0 1 0 0 1 0\n",
      " 0 0 0 0 0 1 0 1 0 0 0 0 0 0 0 0 0 0 0 0 0 0 0 0 0 0 0 0 0 1 0 0 0 0 0 0 1\n",
      " 1 0 1 0 0 0 0 0 1 0 0 0 0 0 0 0 0 1 0 0 1 0 0 1 1 1]\n",
      "Mostrando los resultados para los ultimos 100\n",
      "[0 0 0 1 1 0 1 1 0 0 1 0 0 0 0 0 1 0 1 1 1 0 0 0 0 0 0 0 1 0 0 1 0 0 1 0 0\n",
      " 0 0 0 0 1 0 1 0 0 0 0 0 0 0 0 0 0 0 0 0 0 0 0 0 0 0 0 0 1 0 0 0 0 0 0 1 1\n",
      " 0 1 0 0 0 0 0 1 0 0 0 0 0 0 0 0 1 0 0 1 0 0 1 1 1]\n"
     ]
    },
    {
     "data": {
      "image/png": "[encoded data removed]",
      "text/plain": [
       "<Figure size 800x500 with 1 Axes>"
      ]
     },
     "metadata": {},
     "output_type": "display_data"
    }
   ],
   "source": [
    "print(X.shape)\n",
    "pred = predictOneVsAll(all_theta, X)\n",
    "print('Precision del conjuto de entrenamiento: {:.2f}%'.format(np.mean(pred == y) * 100))\n",
    "XPrueba = X[23999:29998, :].copy()\n",
    "print(XPrueba.shape)\n",
    "#print(np.ones((1)))\n",
    "#print(XPrueba)\n",
    "#p = np.zeros(1)\n",
    "XPrueba = np.concatenate([np.ones((5998, 1)), XPrueba], axis=1)\n",
    "print(XPrueba.shape)\n",
    "p = np.argmax(sigmoid(XPrueba.dot(all_theta.T)), axis = 1)\n",
    "print(p[-100:])\n",
    "\n",
    "print(\"Mostrando los resultados para los ultimos 100\")\n",
    "print(y[29898:29998])\n",
    "\n",
    "# Calcular la precisión para cada clase\n",
    "precisiones = []\n",
    "for clase in range(num_labels):\n",
    "    indices_clase = (y[23999:29998] == clase)\n",
    "    if np.sum(indices_clase) > 0:\n",
    "        precision = np.mean(p[indices_clase] == clase) * 100\n",
    "    else:\n",
    "        precision = np.nan\n",
    "    precisiones.append(precision)\n",
    "\n",
    "# Graficar la precisión por clase\n",
    "plt.figure(figsize=(8, 5))\n",
    "plt.bar(range(num_labels), precisiones, tick_label=[f'Clase {i}' for i in range(num_labels)])\n",
    "plt.ylabel('Precisión (%)')\n",
    "plt.xlabel('Clase')\n",
    "plt.title('Precisión por clase en el conjunto de prueba')\n",
    "plt.ylim(0, 105)\n",
    "plt.show()\n",
    "\n"
   ]
  }
 ],
 "metadata": {
  "colab": {
   "provenance": [
    {
     "file_id": "1DV2tfdqpCt6h-5x3DeVxnDpfUrYRcoCx",
     "timestamp": 1756173257933
    }
   ]
  },
  "kernelspec": {
   "display_name": "Python 3",
   "language": "python",
   "name": "python3"
  },
  "language_info": {
   "codemirror_mode": {
    "name": "ipython",
    "version": 3
   },
   "file_extension": ".py",
   "mimetype": "text/x-python",
   "name": "python",
   "nbconvert_exporter": "python",
   "pygments_lexer": "ipython3",
   "version": "3.13.7"
  }
 },
 "nbformat": 4,
 "nbformat_minor": 0
}
