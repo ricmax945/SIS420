{
 "cells": [
  {
   "cell_type": "markdown",
   "id": "4414cf41",
   "metadata": {},
   "source": [
    "importamos las bibliotecas"
   ]
  },
  {
   "cell_type": "code",
   "execution_count": 174,
   "id": "f6b5e9bb",
   "metadata": {},
   "outputs": [],
   "source": [
    "import torch\n",
    "import torch.nn as nn\n",
    "import torch.nn.functional as F\n"
   ]
  },
  {
   "cell_type": "markdown",
   "id": "78d311d9",
   "metadata": {},
   "source": [
    "creamos una clase modelo que herede el nn.modulo"
   ]
  },
  {
   "cell_type": "code",
   "execution_count": 175,
   "id": "d3599135",
   "metadata": {},
   "outputs": [],
   "source": [
    "class Model(nn.Module):\n",
    "    def __init__(self, in_entradas=3, h1=30, h2=16, out_salidas=3):\n",
    "        super(Model, self).__init__()\n",
    "        self.fc1 = nn.Linear(in_entradas, h1)\n",
    "        self.fc2 = nn.Linear(h1, h2)\n",
    "        self.out = nn.Linear(h2, out_salidas)\n",
    "        self.device = torch.device('cuda' if torch.cuda.is_available() else 'cpu')\n",
    "        self.to(self.device)\n",
    "\n",
    "    def adelante(self, x):\n",
    "        x = x.to(self.device)\n",
    "        x = F.relu(self.fc1(x))\n",
    "        x = F.relu(self.fc2(x))\n",
    "        x = self.out(x)\n",
    "        return x\n",
    "    "
   ]
  },
  {
   "cell_type": "markdown",
   "id": "d9964148",
   "metadata": {},
   "source": [
    "elegimos una semilla manualmente para poder elegir un numero aleatoriamente e instanciamos el modelo "
   ]
  },
  {
   "cell_type": "code",
   "execution_count": 176,
   "id": "d7dfe6ec",
   "metadata": {},
   "outputs": [],
   "source": [
    "torch.manual_seed(5)  # Elegimos una semilla manualmente para poder elegir un numero aleatoriamente\n",
    "\n",
    "model = Model()"
   ]
  },
  {
   "cell_type": "markdown",
   "id": "79d948e3",
   "metadata": {},
   "source": [
    "importamos matplotlib"
   ]
  },
  {
   "cell_type": "code",
   "execution_count": 177,
   "id": "b78c8133",
   "metadata": {},
   "outputs": [],
   "source": [
    "import pandas as pd\n",
    "import matplotlib.pyplot as plt\n",
    "%matplotlib inline"
   ]
  },
  {
   "cell_type": "markdown",
   "id": "6074bc73",
   "metadata": {},
   "source": [
    "importamos el dataset "
   ]
  },
  {
   "cell_type": "code",
   "execution_count": 178,
   "id": "18da1b0c",
   "metadata": {},
   "outputs": [],
   "source": [
    "my_data = pd.read_csv('16_air_quality_prediction.csv', sep=',')\n"
   ]
  },
  {
   "cell_type": "code",
   "execution_count": 179,
   "id": "b55984a6",
   "metadata": {},
   "outputs": [
    {
     "data": {
      "text/html": [
       "<div>\n",
       "<style scoped>\n",
       "    .dataframe tbody tr th:only-of-type {\n",
       "        vertical-align: middle;\n",
       "    }\n",
       "\n",
       "    .dataframe tbody tr th {\n",
       "        vertical-align: top;\n",
       "    }\n",
       "\n",
       "    .dataframe thead th {\n",
       "        text-align: right;\n",
       "    }\n",
       "</style>\n",
       "<table border=\"1\" class=\"dataframe\">\n",
       "  <thead>\n",
       "    <tr style=\"text-align: right;\">\n",
       "      <th></th>\n",
       "      <th>date</th>\n",
       "      <th>location</th>\n",
       "      <th>pm2.5</th>\n",
       "      <th>pm10</th>\n",
       "      <th>temperature</th>\n",
       "      <th>predicted_aqi</th>\n",
       "    </tr>\n",
       "  </thead>\n",
       "  <tbody>\n",
       "    <tr>\n",
       "      <th>0</th>\n",
       "      <td>2023-01-01</td>\n",
       "      <td>Istanbul</td>\n",
       "      <td>29.05</td>\n",
       "      <td>58.73</td>\n",
       "      <td>15.4</td>\n",
       "      <td>40.71</td>\n",
       "    </tr>\n",
       "    <tr>\n",
       "      <th>1</th>\n",
       "      <td>2023-01-01</td>\n",
       "      <td>Ankara</td>\n",
       "      <td>24.74</td>\n",
       "      <td>83.86</td>\n",
       "      <td>26.4</td>\n",
       "      <td>50.63</td>\n",
       "    </tr>\n",
       "    <tr>\n",
       "      <th>2</th>\n",
       "      <td>2023-01-01</td>\n",
       "      <td>Izmir</td>\n",
       "      <td>23.90</td>\n",
       "      <td>76.91</td>\n",
       "      <td>27.8</td>\n",
       "      <td>39.67</td>\n",
       "    </tr>\n",
       "    <tr>\n",
       "      <th>3</th>\n",
       "      <td>2023-01-01</td>\n",
       "      <td>Bursa</td>\n",
       "      <td>43.67</td>\n",
       "      <td>49.58</td>\n",
       "      <td>30.6</td>\n",
       "      <td>36.50</td>\n",
       "    </tr>\n",
       "    <tr>\n",
       "      <th>4</th>\n",
       "      <td>2023-01-02</td>\n",
       "      <td>Istanbul</td>\n",
       "      <td>28.40</td>\n",
       "      <td>76.31</td>\n",
       "      <td>23.9</td>\n",
       "      <td>46.89</td>\n",
       "    </tr>\n",
       "    <tr>\n",
       "      <th>...</th>\n",
       "      <td>...</td>\n",
       "      <td>...</td>\n",
       "      <td>...</td>\n",
       "      <td>...</td>\n",
       "      <td>...</td>\n",
       "      <td>...</td>\n",
       "    </tr>\n",
       "    <tr>\n",
       "      <th>1455</th>\n",
       "      <td>2023-12-30</td>\n",
       "      <td>Bursa</td>\n",
       "      <td>32.45</td>\n",
       "      <td>92.85</td>\n",
       "      <td>19.0</td>\n",
       "      <td>54.18</td>\n",
       "    </tr>\n",
       "    <tr>\n",
       "      <th>1456</th>\n",
       "      <td>2023-12-31</td>\n",
       "      <td>Istanbul</td>\n",
       "      <td>35.23</td>\n",
       "      <td>63.02</td>\n",
       "      <td>23.2</td>\n",
       "      <td>46.39</td>\n",
       "    </tr>\n",
       "    <tr>\n",
       "      <th>1457</th>\n",
       "      <td>2023-12-31</td>\n",
       "      <td>Ankara</td>\n",
       "      <td>45.30</td>\n",
       "      <td>47.77</td>\n",
       "      <td>8.4</td>\n",
       "      <td>44.05</td>\n",
       "    </tr>\n",
       "    <tr>\n",
       "      <th>1458</th>\n",
       "      <td>2023-12-31</td>\n",
       "      <td>Izmir</td>\n",
       "      <td>37.29</td>\n",
       "      <td>64.74</td>\n",
       "      <td>30.9</td>\n",
       "      <td>52.19</td>\n",
       "    </tr>\n",
       "    <tr>\n",
       "      <th>1459</th>\n",
       "      <td>2023-12-31</td>\n",
       "      <td>Bursa</td>\n",
       "      <td>20.38</td>\n",
       "      <td>89.41</td>\n",
       "      <td>26.1</td>\n",
       "      <td>36.89</td>\n",
       "    </tr>\n",
       "  </tbody>\n",
       "</table>\n",
       "<p>1460 rows × 6 columns</p>\n",
       "</div>"
      ],
      "text/plain": [
       "            date  location  pm2.5   pm10  temperature  predicted_aqi\n",
       "0     2023-01-01  Istanbul  29.05  58.73         15.4          40.71\n",
       "1     2023-01-01    Ankara  24.74  83.86         26.4          50.63\n",
       "2     2023-01-01     Izmir  23.90  76.91         27.8          39.67\n",
       "3     2023-01-01     Bursa  43.67  49.58         30.6          36.50\n",
       "4     2023-01-02  Istanbul  28.40  76.31         23.9          46.89\n",
       "...          ...       ...    ...    ...          ...            ...\n",
       "1455  2023-12-30     Bursa  32.45  92.85         19.0          54.18\n",
       "1456  2023-12-31  Istanbul  35.23  63.02         23.2          46.39\n",
       "1457  2023-12-31    Ankara  45.30  47.77          8.4          44.05\n",
       "1458  2023-12-31     Izmir  37.29  64.74         30.9          52.19\n",
       "1459  2023-12-31     Bursa  20.38  89.41         26.1          36.89\n",
       "\n",
       "[1460 rows x 6 columns]"
      ]
     },
     "execution_count": 179,
     "metadata": {},
     "output_type": "execute_result"
    }
   ],
   "source": [
    "#revisamos los datos\n",
    "my_data"
   ]
  },
  {
   "cell_type": "code",
   "execution_count": 180,
   "id": "acf0ae3d",
   "metadata": {},
   "outputs": [],
   "source": [
    "import numpy as np\n",
    "\n",
    "condiciones = [\n",
    "    my_data['predicted_aqi'] < 30,\n",
    "    (my_data['predicted_aqi'] >= 30) & (my_data['predicted_aqi'] < 40),\n",
    "    my_data['predicted_aqi'] >= 40\n",
    "]\n",
    "valores = [0, 1, 2]\n",
    "\n",
    "my_data['predicted_aqi'] = np.select(condiciones, valores)"
   ]
  },
  {
   "cell_type": "code",
   "execution_count": 181,
   "id": "bf171977",
   "metadata": {},
   "outputs": [
    {
     "data": {
      "text/html": [
       "<div>\n",
       "<style scoped>\n",
       "    .dataframe tbody tr th:only-of-type {\n",
       "        vertical-align: middle;\n",
       "    }\n",
       "\n",
       "    .dataframe tbody tr th {\n",
       "        vertical-align: top;\n",
       "    }\n",
       "\n",
       "    .dataframe thead th {\n",
       "        text-align: right;\n",
       "    }\n",
       "</style>\n",
       "<table border=\"1\" class=\"dataframe\">\n",
       "  <thead>\n",
       "    <tr style=\"text-align: right;\">\n",
       "      <th></th>\n",
       "      <th>date</th>\n",
       "      <th>location</th>\n",
       "      <th>pm2.5</th>\n",
       "      <th>pm10</th>\n",
       "      <th>temperature</th>\n",
       "      <th>predicted_aqi</th>\n",
       "    </tr>\n",
       "  </thead>\n",
       "  <tbody>\n",
       "    <tr>\n",
       "      <th>0</th>\n",
       "      <td>2023-01-01</td>\n",
       "      <td>Istanbul</td>\n",
       "      <td>29.05</td>\n",
       "      <td>58.73</td>\n",
       "      <td>15.4</td>\n",
       "      <td>2</td>\n",
       "    </tr>\n",
       "    <tr>\n",
       "      <th>1</th>\n",
       "      <td>2023-01-01</td>\n",
       "      <td>Ankara</td>\n",
       "      <td>24.74</td>\n",
       "      <td>83.86</td>\n",
       "      <td>26.4</td>\n",
       "      <td>2</td>\n",
       "    </tr>\n",
       "    <tr>\n",
       "      <th>2</th>\n",
       "      <td>2023-01-01</td>\n",
       "      <td>Izmir</td>\n",
       "      <td>23.90</td>\n",
       "      <td>76.91</td>\n",
       "      <td>27.8</td>\n",
       "      <td>1</td>\n",
       "    </tr>\n",
       "    <tr>\n",
       "      <th>3</th>\n",
       "      <td>2023-01-01</td>\n",
       "      <td>Bursa</td>\n",
       "      <td>43.67</td>\n",
       "      <td>49.58</td>\n",
       "      <td>30.6</td>\n",
       "      <td>1</td>\n",
       "    </tr>\n",
       "    <tr>\n",
       "      <th>4</th>\n",
       "      <td>2023-01-02</td>\n",
       "      <td>Istanbul</td>\n",
       "      <td>28.40</td>\n",
       "      <td>76.31</td>\n",
       "      <td>23.9</td>\n",
       "      <td>2</td>\n",
       "    </tr>\n",
       "    <tr>\n",
       "      <th>...</th>\n",
       "      <td>...</td>\n",
       "      <td>...</td>\n",
       "      <td>...</td>\n",
       "      <td>...</td>\n",
       "      <td>...</td>\n",
       "      <td>...</td>\n",
       "    </tr>\n",
       "    <tr>\n",
       "      <th>1455</th>\n",
       "      <td>2023-12-30</td>\n",
       "      <td>Bursa</td>\n",
       "      <td>32.45</td>\n",
       "      <td>92.85</td>\n",
       "      <td>19.0</td>\n",
       "      <td>2</td>\n",
       "    </tr>\n",
       "    <tr>\n",
       "      <th>1456</th>\n",
       "      <td>2023-12-31</td>\n",
       "      <td>Istanbul</td>\n",
       "      <td>35.23</td>\n",
       "      <td>63.02</td>\n",
       "      <td>23.2</td>\n",
       "      <td>2</td>\n",
       "    </tr>\n",
       "    <tr>\n",
       "      <th>1457</th>\n",
       "      <td>2023-12-31</td>\n",
       "      <td>Ankara</td>\n",
       "      <td>45.30</td>\n",
       "      <td>47.77</td>\n",
       "      <td>8.4</td>\n",
       "      <td>2</td>\n",
       "    </tr>\n",
       "    <tr>\n",
       "      <th>1458</th>\n",
       "      <td>2023-12-31</td>\n",
       "      <td>Izmir</td>\n",
       "      <td>37.29</td>\n",
       "      <td>64.74</td>\n",
       "      <td>30.9</td>\n",
       "      <td>2</td>\n",
       "    </tr>\n",
       "    <tr>\n",
       "      <th>1459</th>\n",
       "      <td>2023-12-31</td>\n",
       "      <td>Bursa</td>\n",
       "      <td>20.38</td>\n",
       "      <td>89.41</td>\n",
       "      <td>26.1</td>\n",
       "      <td>1</td>\n",
       "    </tr>\n",
       "  </tbody>\n",
       "</table>\n",
       "<p>1460 rows × 6 columns</p>\n",
       "</div>"
      ],
      "text/plain": [
       "            date  location  pm2.5   pm10  temperature  predicted_aqi\n",
       "0     2023-01-01  Istanbul  29.05  58.73         15.4              2\n",
       "1     2023-01-01    Ankara  24.74  83.86         26.4              2\n",
       "2     2023-01-01     Izmir  23.90  76.91         27.8              1\n",
       "3     2023-01-01     Bursa  43.67  49.58         30.6              1\n",
       "4     2023-01-02  Istanbul  28.40  76.31         23.9              2\n",
       "...          ...       ...    ...    ...          ...            ...\n",
       "1455  2023-12-30     Bursa  32.45  92.85         19.0              2\n",
       "1456  2023-12-31  Istanbul  35.23  63.02         23.2              2\n",
       "1457  2023-12-31    Ankara  45.30  47.77          8.4              2\n",
       "1458  2023-12-31     Izmir  37.29  64.74         30.9              2\n",
       "1459  2023-12-31     Bursa  20.38  89.41         26.1              1\n",
       "\n",
       "[1460 rows x 6 columns]"
      ]
     },
     "execution_count": 181,
     "metadata": {},
     "output_type": "execute_result"
    }
   ],
   "source": [
    "my_data #revisamos los datos nuevamente"
   ]
  },
  {
   "cell_type": "code",
   "execution_count": 182,
   "id": "e55b4050",
   "metadata": {},
   "outputs": [],
   "source": [
    "X = my_data[my_data['location'] == 'Istanbul'].drop('date', axis=1)\n",
    "y = X['predicted_aqi']\n",
    "X = X.drop(['predicted_aqi'], axis=1)\n",
    "X = X.drop(['location'], axis=1)\n"
   ]
  },
  {
   "cell_type": "code",
   "execution_count": 183,
   "id": "e8dee96f",
   "metadata": {},
   "outputs": [
    {
     "data": {
      "text/plain": [
       "0       2\n",
       "4       2\n",
       "8       2\n",
       "12      2\n",
       "16      2\n",
       "       ..\n",
       "1440    1\n",
       "1444    2\n",
       "1448    1\n",
       "1452    2\n",
       "1456    2\n",
       "Name: predicted_aqi, Length: 365, dtype: int64"
      ]
     },
     "execution_count": 183,
     "metadata": {},
     "output_type": "execute_result"
    }
   ],
   "source": [
    "#revisamos las y\n",
    "y\n",
    "\n"
   ]
  },
  {
   "cell_type": "code",
   "execution_count": 184,
   "id": "a3072bb6",
   "metadata": {},
   "outputs": [
    {
     "data": {
      "text/html": [
       "<div>\n",
       "<style scoped>\n",
       "    .dataframe tbody tr th:only-of-type {\n",
       "        vertical-align: middle;\n",
       "    }\n",
       "\n",
       "    .dataframe tbody tr th {\n",
       "        vertical-align: top;\n",
       "    }\n",
       "\n",
       "    .dataframe thead th {\n",
       "        text-align: right;\n",
       "    }\n",
       "</style>\n",
       "<table border=\"1\" class=\"dataframe\">\n",
       "  <thead>\n",
       "    <tr style=\"text-align: right;\">\n",
       "      <th></th>\n",
       "      <th>pm2.5</th>\n",
       "      <th>pm10</th>\n",
       "      <th>temperature</th>\n",
       "    </tr>\n",
       "  </thead>\n",
       "  <tbody>\n",
       "    <tr>\n",
       "      <th>0</th>\n",
       "      <td>29.05</td>\n",
       "      <td>58.73</td>\n",
       "      <td>15.4</td>\n",
       "    </tr>\n",
       "    <tr>\n",
       "      <th>4</th>\n",
       "      <td>28.40</td>\n",
       "      <td>76.31</td>\n",
       "      <td>23.9</td>\n",
       "    </tr>\n",
       "    <tr>\n",
       "      <th>8</th>\n",
       "      <td>43.43</td>\n",
       "      <td>53.22</td>\n",
       "      <td>19.1</td>\n",
       "    </tr>\n",
       "    <tr>\n",
       "      <th>12</th>\n",
       "      <td>54.22</td>\n",
       "      <td>73.83</td>\n",
       "      <td>15.6</td>\n",
       "    </tr>\n",
       "    <tr>\n",
       "      <th>16</th>\n",
       "      <td>41.57</td>\n",
       "      <td>63.21</td>\n",
       "      <td>11.8</td>\n",
       "    </tr>\n",
       "    <tr>\n",
       "      <th>...</th>\n",
       "      <td>...</td>\n",
       "      <td>...</td>\n",
       "      <td>...</td>\n",
       "    </tr>\n",
       "    <tr>\n",
       "      <th>1440</th>\n",
       "      <td>34.31</td>\n",
       "      <td>61.09</td>\n",
       "      <td>7.9</td>\n",
       "    </tr>\n",
       "    <tr>\n",
       "      <th>1444</th>\n",
       "      <td>48.05</td>\n",
       "      <td>72.21</td>\n",
       "      <td>13.4</td>\n",
       "    </tr>\n",
       "    <tr>\n",
       "      <th>1448</th>\n",
       "      <td>33.08</td>\n",
       "      <td>70.98</td>\n",
       "      <td>24.0</td>\n",
       "    </tr>\n",
       "    <tr>\n",
       "      <th>1452</th>\n",
       "      <td>39.52</td>\n",
       "      <td>66.59</td>\n",
       "      <td>10.8</td>\n",
       "    </tr>\n",
       "    <tr>\n",
       "      <th>1456</th>\n",
       "      <td>35.23</td>\n",
       "      <td>63.02</td>\n",
       "      <td>23.2</td>\n",
       "    </tr>\n",
       "  </tbody>\n",
       "</table>\n",
       "<p>365 rows × 3 columns</p>\n",
       "</div>"
      ],
      "text/plain": [
       "      pm2.5   pm10  temperature\n",
       "0     29.05  58.73         15.4\n",
       "4     28.40  76.31         23.9\n",
       "8     43.43  53.22         19.1\n",
       "12    54.22  73.83         15.6\n",
       "16    41.57  63.21         11.8\n",
       "...     ...    ...          ...\n",
       "1440  34.31  61.09          7.9\n",
       "1444  48.05  72.21         13.4\n",
       "1448  33.08  70.98         24.0\n",
       "1452  39.52  66.59         10.8\n",
       "1456  35.23  63.02         23.2\n",
       "\n",
       "[365 rows x 3 columns]"
      ]
     },
     "execution_count": 184,
     "metadata": {},
     "output_type": "execute_result"
    }
   ],
   "source": [
    "#revisamos X\n",
    "X"
   ]
  },
  {
   "cell_type": "markdown",
   "id": "c60be335",
   "metadata": {},
   "source": [
    "convertimos a arreglos de numpy "
   ]
  },
  {
   "cell_type": "code",
   "execution_count": 185,
   "id": "fcbe7515",
   "metadata": {},
   "outputs": [],
   "source": [
    "X = X.values\n",
    "y = y.values\n",
    "\n"
   ]
  },
  {
   "cell_type": "code",
   "execution_count": 186,
   "id": "4b13f1d7",
   "metadata": {},
   "outputs": [],
   "source": [
    "from sklearn.model_selection import train_test_split"
   ]
  },
  {
   "cell_type": "code",
   "execution_count": 187,
   "id": "8f4771af",
   "metadata": {},
   "outputs": [],
   "source": [
    "X_train, X_test, y_train, y_test = train_test_split(X, y, test_size=0.08, random_state=5)"
   ]
  },
  {
   "cell_type": "code",
   "execution_count": 188,
   "id": "ad7c605a",
   "metadata": {},
   "outputs": [],
   "source": [
    "#convertimos a tensores de pytorch\n",
    "X_train = torch.tensor(X_train, dtype=torch.float32)\n",
    "X_test = torch.tensor(X_test, dtype=torch.float32)"
   ]
  },
  {
   "cell_type": "code",
   "execution_count": 189,
   "id": "72ecd13c",
   "metadata": {},
   "outputs": [],
   "source": [
    "y_train = torch.tensor(y_train, dtype=torch.long)\n",
    "y_test = torch.tensor(y_test, dtype=torch.long)"
   ]
  },
  {
   "cell_type": "code",
   "execution_count": 190,
   "id": "b08355bf",
   "metadata": {},
   "outputs": [],
   "source": [
    "#fijar el criterio de perdida y cuan lejos estamos de la respuesta correcta\n",
    "\n",
    "criterion = nn.CrossEntropyLoss()\n",
    "optimizer = torch.optim.Adam(model.parameters(), lr=0.1)\n"
   ]
  },
  {
   "cell_type": "markdown",
   "id": "bc5d0cd9",
   "metadata": {},
   "source": [
    "haremos el entrenamiento del modelo"
   ]
  },
  {
   "cell_type": "code",
   "execution_count": 191,
   "id": "3318ec59",
   "metadata": {},
   "outputs": [
    {
     "name": "stdout",
     "output_type": "stream",
     "text": [
      "Epoch 10/1000, Loss: 0.9293184876441956\n",
      "Epoch 20/1000, Loss: 0.872479259967804\n",
      "Epoch 30/1000, Loss: 0.8157461881637573\n",
      "Epoch 40/1000, Loss: 0.7497915029525757\n",
      "Epoch 50/1000, Loss: 0.7090054154396057\n",
      "Epoch 60/1000, Loss: 0.6615126132965088\n",
      "Epoch 70/1000, Loss: 0.6276180148124695\n",
      "Epoch 80/1000, Loss: 0.5998556017875671\n",
      "Epoch 90/1000, Loss: 0.5750072002410889\n",
      "Epoch 100/1000, Loss: 0.5575588941574097\n",
      "Epoch 110/1000, Loss: 0.5478689670562744\n",
      "Epoch 120/1000, Loss: 0.5195886492729187\n",
      "Epoch 130/1000, Loss: 0.5027011036872864\n",
      "Epoch 140/1000, Loss: 0.48021501302719116\n",
      "Epoch 150/1000, Loss: 0.5019515156745911\n",
      "Epoch 160/1000, Loss: 0.4647923707962036\n",
      "Epoch 170/1000, Loss: 0.4739939272403717\n",
      "Epoch 180/1000, Loss: 0.46562594175338745\n",
      "Epoch 190/1000, Loss: 0.4540611207485199\n",
      "Epoch 200/1000, Loss: 0.4503026604652405\n",
      "Epoch 210/1000, Loss: 0.4496702253818512\n",
      "Epoch 220/1000, Loss: 0.4529273211956024\n",
      "Epoch 230/1000, Loss: 0.4514751434326172\n",
      "Epoch 240/1000, Loss: 0.4524382948875427\n",
      "Epoch 250/1000, Loss: 0.4576164186000824\n",
      "Epoch 260/1000, Loss: 0.44941243529319763\n",
      "Epoch 270/1000, Loss: 0.4487464129924774\n",
      "Epoch 280/1000, Loss: 0.4609867334365845\n",
      "Epoch 290/1000, Loss: 0.44639214873313904\n",
      "Epoch 300/1000, Loss: 0.4463321566581726\n",
      "Epoch 310/1000, Loss: 0.44719839096069336\n",
      "Epoch 320/1000, Loss: 0.44695335626602173\n",
      "Epoch 330/1000, Loss: 0.4470668435096741\n",
      "Epoch 340/1000, Loss: 0.4616037905216217\n",
      "Epoch 350/1000, Loss: 0.44546252489089966\n",
      "Epoch 360/1000, Loss: 0.4449557065963745\n",
      "Epoch 370/1000, Loss: 0.44527044892311096\n",
      "Epoch 380/1000, Loss: 0.4466686248779297\n",
      "Epoch 390/1000, Loss: 0.446100115776062\n",
      "Epoch 400/1000, Loss: 0.44467344880104065\n",
      "Epoch 410/1000, Loss: 0.44519761204719543\n",
      "Epoch 420/1000, Loss: 0.44740554690361023\n",
      "Epoch 430/1000, Loss: 0.44750621914863586\n",
      "Epoch 440/1000, Loss: 0.4466094970703125\n",
      "Epoch 450/1000, Loss: 0.4460526704788208\n",
      "Epoch 460/1000, Loss: 0.4461936056613922\n",
      "Epoch 470/1000, Loss: 0.4464878439903259\n",
      "Epoch 480/1000, Loss: 0.4464857876300812\n",
      "Epoch 490/1000, Loss: 0.44631510972976685\n",
      "Epoch 500/1000, Loss: 0.44619494676589966\n",
      "Epoch 510/1000, Loss: 0.4461771845817566\n",
      "Epoch 520/1000, Loss: 0.4461636543273926\n",
      "Epoch 530/1000, Loss: 0.44610562920570374\n",
      "Epoch 540/1000, Loss: 0.4460337162017822\n",
      "Epoch 550/1000, Loss: 0.44597846269607544\n",
      "Epoch 560/1000, Loss: 0.44593724608421326\n",
      "Epoch 570/1000, Loss: 0.4458945095539093\n",
      "Epoch 580/1000, Loss: 0.44584813714027405\n",
      "Epoch 590/1000, Loss: 0.44580405950546265\n",
      "Epoch 600/1000, Loss: 0.44576549530029297\n",
      "Epoch 610/1000, Loss: 0.44572991132736206\n",
      "Epoch 620/1000, Loss: 0.44569623470306396\n",
      "Epoch 630/1000, Loss: 0.4456639885902405\n",
      "Epoch 640/1000, Loss: 0.4456343352794647\n",
      "Epoch 650/1000, Loss: 0.44560709595680237\n",
      "Epoch 660/1000, Loss: 0.4455820620059967\n",
      "Epoch 670/1000, Loss: 0.4455588757991791\n",
      "Epoch 680/1000, Loss: 0.4455372393131256\n",
      "Epoch 690/1000, Loss: 0.4455176889896393\n",
      "Epoch 700/1000, Loss: 0.4454996585845947\n",
      "Epoch 710/1000, Loss: 0.4454834759235382\n",
      "Epoch 720/1000, Loss: 0.44546836614608765\n",
      "Epoch 730/1000, Loss: 0.44545450806617737\n",
      "Epoch 740/1000, Loss: 0.4458262026309967\n",
      "Epoch 750/1000, Loss: 0.44347599148750305\n",
      "Epoch 760/1000, Loss: 0.4448581039905548\n",
      "Epoch 770/1000, Loss: 0.4451415240764618\n",
      "Epoch 780/1000, Loss: 0.44377195835113525\n",
      "Epoch 790/1000, Loss: 0.444160521030426\n",
      "Epoch 800/1000, Loss: 0.44753310084342957\n",
      "Epoch 810/1000, Loss: 0.44597241282463074\n",
      "Epoch 820/1000, Loss: 0.4444441497325897\n",
      "Epoch 830/1000, Loss: 0.4443502426147461\n",
      "Epoch 840/1000, Loss: 0.4430122971534729\n",
      "Epoch 850/1000, Loss: 0.4526049792766571\n",
      "Epoch 860/1000, Loss: 0.4434773325920105\n",
      "Epoch 870/1000, Loss: 0.4436641037464142\n",
      "Epoch 880/1000, Loss: 0.447567343711853\n",
      "Epoch 890/1000, Loss: 0.44496390223503113\n",
      "Epoch 900/1000, Loss: 0.44353145360946655\n",
      "Epoch 910/1000, Loss: 0.4466932713985443\n",
      "Epoch 920/1000, Loss: 0.44302359223365784\n",
      "Epoch 930/1000, Loss: 0.44665175676345825\n",
      "Epoch 940/1000, Loss: 0.44456759095191956\n",
      "Epoch 950/1000, Loss: 0.4428207278251648\n",
      "Epoch 960/1000, Loss: 0.44775426387786865\n",
      "Epoch 970/1000, Loss: 0.44408944249153137\n",
      "Epoch 980/1000, Loss: 0.4444597363471985\n",
      "Epoch 990/1000, Loss: 0.4450417160987854\n",
      "Epoch 1000/1000, Loss: 0.44407930970191956\n"
     ]
    }
   ],
   "source": [
    "#entrenamos el modelo \n",
    "epochs = 1000\n",
    "losses = []\n",
    "for i in range(epochs):\n",
    "    # pasamos los datos por el modelo\n",
    "    y_pred = model.adelante(X_train)\n",
    "\n",
    "    # Computamos y mostramos la pérdida\n",
    "    loss = criterion(y_pred, y_train.to(model.device))\n",
    "    losses.append(loss.detach().cpu().numpy())\n",
    "    \n",
    "    if (i+1) % 10 == 0:\n",
    "        print(f'Epoch {i+1}/{epochs}, Loss: {loss}')\n",
    "    # Hacemos el backward pass y optimizamos\n",
    "    optimizer.zero_grad()  # Zero gradients, else they will accumulate between epochs\n",
    "    loss.backward()        # Backpropagation, compute gradients\n",
    "    optimizer.step()       # actualizamos los pesos"
   ]
  },
  {
   "cell_type": "code",
   "execution_count": 192,
   "id": "464fd298",
   "metadata": {},
   "outputs": [
    {
     "data": {
      "text/plain": [
       "Text(0.5, 0, 'Epoch')"
      ]
     },
     "execution_count": 192,
     "metadata": {},
     "output_type": "execute_result"
    },
    {
     "data": {
      "image/png": "[encoded data removed]",
      "text/plain": [
       "<Figure size 640x480 with 1 Axes>"
      ]
     },
     "metadata": {},
     "output_type": "display_data"
    }
   ],
   "source": [
    "#lo graficamos \n",
    "plt.plot(range(epochs), losses)\n",
    "plt.ylabel('Loss/error')\n",
    "plt.xlabel('Epoch')"
   ]
  },
  {
   "cell_type": "markdown",
   "id": "f0140e98",
   "metadata": {},
   "source": [
    "evaluamos el modelo en el set de prueba "
   ]
  },
  {
   "cell_type": "code",
   "execution_count": 193,
   "id": "e89a0675",
   "metadata": {},
   "outputs": [],
   "source": [
    "with torch.no_grad():\n",
    "    # evaluamos el modelo en el set de prueba \n",
    "    y_eval = model.adelante(X_test)\n",
    "    loss = criterion(y_eval, y_test.to(model.device))\n",
    "    \n",
    "    "
   ]
  },
  {
   "cell_type": "code",
   "execution_count": 194,
   "id": "4ef12418",
   "metadata": {},
   "outputs": [
    {
     "data": {
      "text/plain": [
       "tensor(0.4572, device='cuda:0')"
      ]
     },
     "execution_count": 194,
     "metadata": {},
     "output_type": "execute_result"
    }
   ],
   "source": [
    "loss"
   ]
  },
  {
   "cell_type": "code",
   "execution_count": 195,
   "id": "bb9189b4",
   "metadata": {},
   "outputs": [
    {
     "name": "stdout",
     "output_type": "stream",
     "text": [
      "1.) tensor([-5.9574,  1.2969,  3.7896], device='cuda:0')\t \t  2\t 2\n",
      "2.) tensor([ 0.9764,  1.7527, -0.5089], device='cuda:0')\t \t  1\t 1\n",
      "3.) tensor([-6.0691,  1.2895,  3.8588], device='cuda:0')\t \t  2\t 2\n",
      "4.) tensor([-0.9712,  1.6257,  0.6992], device='cuda:0')\t \t  1\t 1\n",
      "5.) tensor([-4.1430,  1.4165,  2.6650], device='cuda:0')\t \t  2\t 2\n",
      "6.) tensor([-5.5165,  1.3260,  3.5164], device='cuda:0')\t \t  2\t 2\n",
      "7.) tensor([-2.6908,  1.5123,  1.7650], device='cuda:0')\t \t  2\t 2\n",
      "8.) tensor([-5.8843,  1.3017,  3.7443], device='cuda:0')\t \t  2\t 2\n",
      "9.) tensor([ 1.3887,  1.6231, -0.8690], device='cuda:0')\t \t  1\t 1\n",
      "10.) tensor([ 1.7103,  1.5221, -1.1498], device='cuda:0')\t \t  0\t 0\n",
      "11.) tensor([-3.7296,  1.4438,  2.4088], device='cuda:0')\t \t  2\t 2\n",
      "12.) tensor([ 1.5485,  1.5729, -1.0086], device='cuda:0')\t \t  0\t 1\n",
      "13.) tensor([ 0.3044,  1.7098, -0.0914], device='cuda:0')\t \t  1\t 1\n",
      "14.) tensor([-11.0153,   0.9633,   6.9245], device='cuda:0')\t \t  2\t 2\n",
      "15.) tensor([-1.5377,  1.5884,  1.0503], device='cuda:0')\t \t  1\t 1\n",
      "16.) tensor([-5.1917,  1.3474,  3.3151], device='cuda:0')\t \t  2\t 2\n",
      "17.) tensor([-5.3545,  1.3366,  3.4160], device='cuda:0')\t \t  2\t 2\n",
      "18.) tensor([-5.6492,  1.3172,  3.5986], device='cuda:0')\t \t  2\t 2\n",
      "19.) tensor([-1.5221,  1.5894,  1.0406], device='cuda:0')\t \t  1\t 1\n",
      "20.) tensor([-2.0459,  1.5548,  1.3653], device='cuda:0')\t \t  2\t 1\n",
      "21.) tensor([-6.6793,  1.2493,  4.2371], device='cuda:0')\t \t  2\t 2\n",
      "22.) tensor([-0.4497,  1.6601,  0.3759], device='cuda:0')\t \t  2\t 1\n",
      "23.) tensor([0.0338, 1.6920, 0.0763], device='cuda:0')\t \t  2\t 1\n",
      "24.) tensor([-3.9061,  1.4322,  2.5182], device='cuda:0')\t \t  1\t 2\n",
      "25.) tensor([-2.0274,  1.5561,  1.3538], device='cuda:0')\t \t  1\t 1\n",
      "26.) tensor([-3.3683,  1.4676,  2.1849], device='cuda:0')\t \t  2\t 2\n",
      "27.) tensor([-3.6432,  1.4495,  2.3553], device='cuda:0')\t \t  2\t 2\n",
      "28.) tensor([-1.1898,  1.6113,  0.8347], device='cuda:0')\t \t  1\t 1\n",
      "29.) tensor([-5.4253,  1.3320,  3.4598], device='cuda:0')\t \t  2\t 2\n",
      "30.) tensor([-7.4870,  1.1960,  4.7377], device='cuda:0')\t \t  2\t 2\n",
      "El modelo tuvo 25 predicciones correctas de 30 lo cual nos da un 83.33333333333334% de efectividad\n"
     ]
    }
   ],
   "source": [
    "correctos = 0\n",
    "with torch.no_grad():\n",
    "    for i, data in enumerate(X_test):\n",
    "        y_val = model.adelante(data)\n",
    "        \n",
    "        #nos va a decir la clase con mayor probabilidad\n",
    "        print(f'{i+1}.) {str(y_val)  }\\t \\t  {y_test[i]}\\t {y_val.argmax().item()}' )\n",
    "\n",
    "        #averiguamos si es correcto o no\n",
    "        if y_val.argmax().item() == y_test[i]:\n",
    "            correctos += 1\n",
    "\n",
    "print(f'El modelo tuvo {correctos} predicciones correctas de {len(y_test)} lo cual nos da un {(correctos/len(y_test))*100}% de efectividad')\n",
    "\n",
    "\n"
   ]
  }
 ],
 "metadata": {
  "kernelspec": {
   "display_name": "Python 3",
   "language": "python",
   "name": "python3"
  },
  "language_info": {
   "codemirror_mode": {
    "name": "ipython",
    "version": 3
   },
   "file_extension": ".py",
   "mimetype": "text/x-python",
   "name": "python",
   "nbconvert_exporter": "python",
   "pygments_lexer": "ipython3",
   "version": "3.13.7"
  }
 },
 "nbformat": 4,
 "nbformat_minor": 5
}
